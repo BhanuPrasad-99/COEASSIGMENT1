{
 "cells": [
  {
   "cell_type": "code",
   "execution_count": 2,
   "id": "8efff462-eb4c-4507-b3c6-a761034a7789",
   "metadata": {},
   "outputs": [
    {
     "name": "stdout",
     "output_type": "stream",
     "text": [
      "(1156, 7)\n",
      "['Business' 'Personal' nan]\n",
      "503\n"
     ]
    }
   ],
   "source": [
    "import pandas as pd\n",
    "\n",
    "\n",
    "uber_data = pd.read_csv(r\"C:\\Users\\Bhanu\\Downloads\\Uber_Drives_2016.csv\")\n",
    "\n",
    "\n",
    "print( uber_data.shape)\n",
    "\n",
    "print(uber_data['CATEGORY*'].unique())\n",
    "print(uber_data['PURPOSE*'].isnull().sum())"
   ]
  },
  {
   "cell_type": "code",
   "execution_count": 3,
   "id": "43f8be80-fbcd-4c39-8e18-27da3be6ec12",
   "metadata": {},
   "outputs": [
    {
     "name": "stdout",
     "output_type": "stream",
     "text": [
      "Index(['START_DATE*', 'END_DATE*', 'CATEGORY*', 'START*', 'STOP*', 'MILES*',\n",
      "       'PURPOSE*'],\n",
      "      dtype='object')\n"
     ]
    }
   ],
   "source": [
    "uber_data.columns = uber_data.columns.str.upper()\n",
    "print(uber_data.columns)"
   ]
  },
  {
   "cell_type": "code",
   "execution_count": 4,
   "id": "6c6b1c9f-73cd-4a47-9bd7-de5973504770",
   "metadata": {},
   "outputs": [
    {
     "name": "stdout",
     "output_type": "stream",
     "text": [
      "      START_DATE*       END_DATE* CATEGORY*       START*            STOP*  \\\n",
      "0  1/1/2016 21:11  1/1/2016 21:17  Business  Fort Pierce      Fort Pierce   \n",
      "1   1/2/2016 1:25   1/2/2016 1:37  Business  Fort Pierce      Fort Pierce   \n",
      "2  1/2/2016 20:25  1/2/2016 20:38  Business  Fort Pierce      Fort Pierce   \n",
      "3  1/5/2016 17:31  1/5/2016 17:45  Business  Fort Pierce      Fort Pierce   \n",
      "4  1/6/2016 14:42  1/6/2016 15:49  Business  Fort Pierce  West Palm Beach   \n",
      "\n",
      "   MILES*         PURPOSE*  \n",
      "0     5.1   Meal/Entertain  \n",
      "1     5.0              NaN  \n",
      "2     4.8  Errand/Supplies  \n",
      "3     4.7          Meeting  \n",
      "4    63.7   Customer Visit  \n"
     ]
    }
   ],
   "source": [
    "print(uber_data.head())"
   ]
  },
  {
   "cell_type": "code",
   "execution_count": 7,
   "id": "ca191105-4861-47cd-a70b-10f4c6e54516",
   "metadata": {},
   "outputs": [
    {
     "name": "stdout",
     "output_type": "stream",
     "text": [
      "            START_DATE*           END_DATE* CATEGORY*            START*  \\\n",
      "269 2016-03-25 16:52:00 2016-03-25 22:22:00  Business             Latta   \n",
      "270 2016-03-25 22:54:00 2016-03-26 01:39:00  Business      Jacksonville   \n",
      "881 2016-10-30 15:22:00 2016-10-30 18:23:00  Business         Asheville   \n",
      "776 2016-09-27 21:01:00 2016-09-28 02:37:00  Business  Unknown Location   \n",
      "546 2016-07-14 16:39:00 2016-07-14 20:05:00  Business       Morrisville   \n",
      "\n",
      "                STOP*  MILES*        PURPOSE*   TRIP_DURATION  \n",
      "269      Jacksonville   310.3  Customer Visit 0 days 05:30:00  \n",
      "270         Kissimmee   201.0         Meeting 0 days 02:45:00  \n",
      "881            Mebane   195.9   Not Specified 0 days 03:01:00  \n",
      "776  Unknown Location   195.6   Not Specified 0 days 05:36:00  \n",
      "546        Banner Elk   195.3   Not Specified 0 days 03:26:00  \n",
      "            START_DATE*           END_DATE* CATEGORY*            START*  \\\n",
      "269 2016-03-25 16:52:00 2016-03-25 22:22:00  Business             Latta   \n",
      "270 2016-03-25 22:54:00 2016-03-26 01:39:00  Business      Jacksonville   \n",
      "881 2016-10-30 15:22:00 2016-10-30 18:23:00  Business         Asheville   \n",
      "776 2016-09-27 21:01:00 2016-09-28 02:37:00  Business  Unknown Location   \n",
      "546 2016-07-14 16:39:00 2016-07-14 20:05:00  Business       Morrisville   \n",
      "\n",
      "                STOP*  MILES*        PURPOSE*   TRIP_DURATION  \n",
      "269      Jacksonville   310.3  Customer Visit 0 days 05:30:00  \n",
      "270         Kissimmee   201.0         Meeting 0 days 02:45:00  \n",
      "881            Mebane   195.9   Not Specified 0 days 03:01:00  \n",
      "776  Unknown Location   195.6   Not Specified 0 days 05:36:00  \n",
      "546        Banner Elk   195.3   Not Specified 0 days 03:26:00  \n"
     ]
    }
   ],
   "source": [
    "import pandas as pd\n",
    "\n",
    "uber_data = pd.read_csv(r\"C:\\Users\\Bhanu\\Downloads\\Uber_Drives_2016.csv\")\n",
    "uber_data.columns = uber_data.columns.str.upper()\n",
    "\n",
    "# Remove rows with 'Totals' or invalid data\n",
    "uber_data = uber_data[uber_data['START_DATE*'] != 'Totals']\n",
    "\n",
    "# Replace missing PURPOSE values\n",
    "uber_data['PURPOSE*'] = uber_data['PURPOSE*'].fillna('Not Specified')\n",
    "\n",
    "# Convert to datetime safely\n",
    "uber_data['START_DATE*'] = pd.to_datetime(uber_data['START_DATE*'], errors='coerce')\n",
    "uber_data['END_DATE*'] = pd.to_datetime(uber_data['END_DATE*'], errors='coerce')\n",
    "\n",
    "# Drop any rows that failed conversion (NaT)\n",
    "uber_data = uber_data.dropna(subset=['START_DATE*', 'END_DATE*'])\n",
    "\n",
    "# Create trip duration\n",
    "uber_data['TRIP_DURATION'] = uber_data['END_DATE*'] - uber_data['START_DATE*']\n",
    "\n",
    "# Display top 5 longest trips\n",
    "top5_longest = uber_data.nlargest(5, 'MILES*')\n",
    "print(top5_longest)\n",
    "\n",
    "# Sort by distance\n",
    "sorted_df = uber_data.sort_values(by='MILES*', ascending=False)\n",
    "print(sorted_df.head())\n"
   ]
  }
 ],
 "metadata": {
  "kernelspec": {
   "display_name": "Python 3 (ipykernel)",
   "language": "python",
   "name": "python3"
  },
  "language_info": {
   "codemirror_mode": {
    "name": "ipython",
    "version": 3
   },
   "file_extension": ".py",
   "mimetype": "text/x-python",
   "name": "python",
   "nbconvert_exporter": "python",
   "pygments_lexer": "ipython3",
   "version": "3.13.5"
  }
 },
 "nbformat": 4,
 "nbformat_minor": 5
}
